{
 "cells": [
  {
   "cell_type": "code",
   "execution_count": 3,
   "metadata": {},
   "outputs": [],
   "source": [
    "import numpy as np\n",
    "import matplotlib.pyplot as plt\n",
    "from scipy import signal\n",
    "\n",
    "def bpsk_gen(n):\n",
    "    \"\"\"\n",
    "    Função que retorna um vetor (n, 1) contando a sequência binária \n",
    "    x com valores {-1, 1}.\n",
    "    \"\"\"\n",
    "    x = np.ones((n, 1))\n",
    "    for value in x:\n",
    "        if np.random.rand() < 0.5:\n",
    "            value *=-1\n",
    "    return x\n",
    "\n",
    "# Canal:\n",
    "# H = np.array([0.25, 1, -0.25])\n",
    "# # Ruído:\n",
    "# sigma = np.sqrt(0.01)  # Desvio padrão a partir da ver. especificada\n",
    "# noise = np.random.normal(0, sigma, (N, 1))\n",
    "\n",
    "# # Sinal no receptor:\n",
    "# ch_out = signal.lfilter(H, 1, xn) + noise"
   ]
  },
  {
   "cell_type": "code",
   "execution_count": 22,
   "metadata": {},
   "outputs": [],
   "source": []
  },
  {
   "cell_type": "code",
   "execution_count": 57,
   "metadata": {},
   "outputs": [
    {
     "name": "stdout",
     "output_type": "stream",
     "text": [
      "12083\n",
      "[[nan]] \n",
      "\n",
      "[[-inf]\n",
      " [ inf]\n",
      " [-inf]\n",
      " [ inf]\n",
      " [-inf]\n",
      " [ inf]\n",
      " [-inf]\n",
      " [ inf]\n",
      " [-inf]\n",
      " [ inf]\n",
      " [-inf]\n",
      " [-inf]\n",
      " [-inf]\n",
      " [-inf]\n",
      " [-inf]\n",
      " [-inf]\n",
      " [-inf]\n",
      " [-inf]\n",
      " [ inf]\n",
      " [-inf]\n",
      " [-inf]]\n"
     ]
    }
   ],
   "source": [
    "# taps:\n",
    "M = 21\n",
    "w = np.zeros((M, 1))\n",
    "u = np.zeros((M, 1))\n",
    "# x = bpsk_gen()\n",
    "vt_erro = {}\n",
    "\n",
    "u = np.insert(u, 0, bpsk_gen(1))\n",
    "u = np.delete(u, -1)\n",
    "u = u.reshape(u.size, 1)\n",
    "erro = 1 - w.T@u\n",
    "vt_erro[0] = erro\n",
    "\n",
    "n = 1\n",
    "while abs(erro)>1e-3:\n",
    "#     print(1/np.trace(u@u.T))\n",
    "    w -= erro*u* 1/np.trace(u@u.T)\n",
    "    \n",
    "    u = np.insert(u, 0, bpsk_gen(1))\n",
    "    u = np.delete(u, -1)\n",
    "    u = u.reshape(u.size, 1)\n",
    "    \n",
    "    erro = 1 - w.T@u\n",
    "#     print(erro)\n",
    "    vt_erro[n] = erro\n",
    "    n += 1\n",
    "\n",
    "print(len(vt_erro))\n",
    "print(erro, '\\n')\n",
    "print(w)"
   ]
  },
  {
   "cell_type": "code",
   "execution_count": 33,
   "metadata": {},
   "outputs": [],
   "source": []
  },
  {
   "cell_type": "code",
   "execution_count": 38,
   "metadata": {},
   "outputs": [
    {
     "data": {
      "text/plain": [
       "3"
      ]
     },
     "execution_count": 38,
     "metadata": {},
     "output_type": "execute_result"
    }
   ],
   "source": [
    "len(vt_erro)"
   ]
  },
  {
   "cell_type": "code",
   "execution_count": 44,
   "metadata": {},
   "outputs": [
    {
     "data": {
      "text/plain": [
       "({0: array([[1.]]), 1: array([[2.]]), 2: array([[0.]])}, array([[-2.],\n",
       "        [-1.],\n",
       "        [ 0.],\n",
       "        [ 0.],\n",
       "        [ 0.],\n",
       "        [ 0.],\n",
       "        [ 0.],\n",
       "        [ 0.],\n",
       "        [ 0.],\n",
       "        [ 0.],\n",
       "        [ 0.],\n",
       "        [ 0.],\n",
       "        [ 0.],\n",
       "        [ 0.],\n",
       "        [ 0.],\n",
       "        [ 0.],\n",
       "        [ 0.],\n",
       "        [ 0.],\n",
       "        [ 0.],\n",
       "        [ 0.],\n",
       "        [ 0.]]))"
      ]
     },
     "execution_count": 44,
     "metadata": {},
     "output_type": "execute_result"
    }
   ],
   "source": [
    "vt_erro, w"
   ]
  }
 ],
 "metadata": {
  "kernelspec": {
   "display_name": "Python 3",
   "language": "python",
   "name": "python3"
  },
  "language_info": {
   "codemirror_mode": {
    "name": "ipython",
    "version": 3
   },
   "file_extension": ".py",
   "mimetype": "text/x-python",
   "name": "python",
   "nbconvert_exporter": "python",
   "pygments_lexer": "ipython3",
   "version": "3.7.1"
  }
 },
 "nbformat": 4,
 "nbformat_minor": 2
}
