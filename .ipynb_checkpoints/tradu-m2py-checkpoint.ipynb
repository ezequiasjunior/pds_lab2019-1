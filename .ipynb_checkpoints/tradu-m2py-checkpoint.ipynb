{
 "cells": [
  {
   "cell_type": "code",
   "execution_count": 2,
   "metadata": {},
   "outputs": [],
   "source": [
    "import numpy as np"
   ]
  },
  {
   "cell_type": "code",
   "execution_count": 3,
   "metadata": {},
   "outputs": [],
   "source": [
    "x = np.arange(10).reshape(10,1)"
   ]
  },
  {
   "cell_type": "code",
   "execution_count": 4,
   "metadata": {},
   "outputs": [
    {
     "data": {
      "text/plain": [
       "array([[0],\n",
       "       [1],\n",
       "       [2],\n",
       "       [3],\n",
       "       [4],\n",
       "       [5],\n",
       "       [6],\n",
       "       [7],\n",
       "       [8],\n",
       "       [9]])"
      ]
     },
     "execution_count": 4,
     "metadata": {},
     "output_type": "execute_result"
    }
   ],
   "source": [
    "x"
   ]
  },
  {
   "cell_type": "code",
   "execution_count": 5,
   "metadata": {},
   "outputs": [],
   "source": [
    "# def least_mean_squares(x, d, step, m):\n",
    "#     # inicializar...\n",
    "    \n",
    "#     for n in range(x.size-(m-1)):\n",
    "#         u = x[-n-1:-(M+1+n):-1]\n",
    "#         erro = d - w.T@u\n",
    "#         w+=step*u*erro\n",
    "        \n",
    "#     return"
   ]
  },
  {
   "cell_type": "code",
   "execution_count": 7,
   "metadata": {
    "scrolled": true
   },
   "outputs": [
    {
     "name": "stdout",
     "output_type": "stream",
     "text": [
      "[[9]\n",
      " [8]\n",
      " [7]\n",
      " [6]\n",
      " [5]\n",
      " [4]]\n",
      "\n",
      "[[8]\n",
      " [7]\n",
      " [6]\n",
      " [5]\n",
      " [4]\n",
      " [3]]\n",
      "\n",
      "[[7]\n",
      " [6]\n",
      " [5]\n",
      " [4]\n",
      " [3]\n",
      " [2]]\n",
      "\n",
      "[[6]\n",
      " [5]\n",
      " [4]\n",
      " [3]\n",
      " [2]\n",
      " [1]]\n",
      "\n",
      "[[5]\n",
      " [4]\n",
      " [3]\n",
      " [2]\n",
      " [1]\n",
      " [0]]\n",
      "\n"
     ]
    }
   ],
   "source": [
    "# x[::-1][:x.size-3]\n",
    "M = 6 # roda M+1\n",
    "for n in range(x.size-(M-1)):\n",
    "    print(f'{x[-n-1:-(M+1+n):-1]}\\n')"
   ]
  },
  {
   "cell_type": "code",
   "execution_count": 8,
   "metadata": {},
   "outputs": [
    {
     "ename": "SyntaxError",
     "evalue": "invalid syntax (<ipython-input-8-ef15f6184eef>, line 1)",
     "output_type": "error",
     "traceback": [
      "\u001b[0;36m  File \u001b[0;32m\"<ipython-input-8-ef15f6184eef>\"\u001b[0;36m, line \u001b[0;32m1\u001b[0m\n\u001b[0;31m    for n in range(x.size-(M-1))\u001b[0m\n\u001b[0m                                ^\u001b[0m\n\u001b[0;31mSyntaxError\u001b[0m\u001b[0;31m:\u001b[0m invalid syntax\n"
     ]
    }
   ],
   "source": [
    "for n in range(x.size-(M-1))\n",
    "    print(f'{np.flipud(x[n:n+M])}\\n'"
   ]
  }
 ],
 "metadata": {
  "kernelspec": {
   "display_name": "Python 3",
   "language": "python",
   "name": "python3"
  },
  "language_info": {
   "codemirror_mode": {
    "name": "ipython",
    "version": 3
   },
   "file_extension": ".py",
   "mimetype": "text/x-python",
   "name": "python",
   "nbconvert_exporter": "python",
   "pygments_lexer": "ipython3",
   "version": "3.7.1"
  }
 },
 "nbformat": 4,
 "nbformat_minor": 2
}
