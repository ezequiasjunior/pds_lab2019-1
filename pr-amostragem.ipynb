{
 "cells": [
  {
   "cell_type": "markdown",
   "metadata": {},
   "source": [
    "# Laboratório de Processamento de Sinais para Comunicações\n",
    "##  Prárica 01 - Amostragem\n",
    "\n",
    "### Aluno - Matrícula:\n",
    "\n",
    "Ezequias Márcio Silva de Santana Júnior - 371887"
   ]
  },
  {
   "cell_type": "code",
   "execution_count": 7,
   "metadata": {},
   "outputs": [],
   "source": [
    "# Importando os módulos necessários para a execução do código.\n",
    "import numpy as np\n",
    "import matplotlib.pyplot as plt\n",
    "import ipywidgets as widgets\n",
    "from IPython.display import display\n",
    "%matplotlib inline"
   ]
  },
  {
   "cell_type": "markdown",
   "metadata": {},
   "source": [
    "### Plotando sinal:"
   ]
  },
  {
   "cell_type": "code",
   "execution_count": 9,
   "metadata": {},
   "outputs": [
    {
     "data": {
      "image/png": "[encoded data removed]",
      "text/plain": [
       "<Figure size 460.8x345.6 with 1 Axes>"
      ]
     },
     "metadata": {
      "needs_background": "light"
     },
     "output_type": "display_data"
    }
   ],
   "source": [
    "# Definindo sample rate global em 32k amostras em 1 segundo, simulando sinal o contínuo:\n",
    "sr = 32000 \n",
    "\n",
    "# Valores de t in [0, 1] segundos:\n",
    "time = np.linspace(0, 1, sr)\n",
    "\n",
    "# Construção do sinal:\n",
    "freq = 10 # Hz\n",
    "signal = np.sin(2*np.pi*freq*time)\n",
    "\n",
    "# Plotando a curva:\n",
    "dim = 1*6.4                                          # Dimensões da figura (múltiplos de 6.4)\n",
    "plt.figure('analog_signal', figsize=[dim, 0.75*dim]) # Inicializando figura\n",
    "plt.title('Sinal Original')                          #\n",
    "plt.xlabel('$t$ [$s$]')                              # Título, eixos\n",
    "plt.ylabel('$y(t)$')                                 #\n",
    "plt.plot(time, signal, 'r', label='$y(t) = \\sin(20\\pi t)$') # plot\n",
    "#plt.axis([-0.025, 1.025, -1.25, 1.25])              # Trata os eixos (opcional)\n",
    "plt.grid()                                           # Habilita o grid\n",
    "#plt.legend(loc='best')#'upper right')                # Habilita a legenda (opcional)\n",
    "plt.show()                                           # Mostra a figura"
   ]
  },
  {
   "cell_type": "markdown",
   "metadata": {},
   "source": [
    "### Amostragem:"
   ]
  },
  {
   "cell_type": "code",
   "execution_count": null,
   "metadata": {},
   "outputs": [],
   "source": [
    "# Definindo frequência de amostragem:\n",
    "sample_freq = #Hz"
   ]
  },
  {
   "cell_type": "markdown",
   "metadata": {},
   "source": [
    "### Recuperação:\n",
    "\n",
    "plot azul e plot o erro em magenta"
   ]
  },
  {
   "cell_type": "code",
   "execution_count": null,
   "metadata": {},
   "outputs": [],
   "source": []
  },
  {
   "cell_type": "code",
   "execution_count": 26,
   "metadata": {},
   "outputs": [
    {
     "data": {
      "text/plain": [
       "62.83185307179586"
      ]
     },
     "execution_count": 26,
     "metadata": {},
     "output_type": "execute_result"
    }
   ],
   "source": [
    "# Nyquist..\n",
    "2*np.pi*10\n",
    "# fazer o caso do erro para essa freq..."
   ]
  },
  {
   "cell_type": "code",
   "execution_count": 40,
   "metadata": {},
   "outputs": [
    {
     "data": {
      "application/vnd.jupyter.widget-view+json": {
       "model_id": "bd0ddb4f2fef49bb97b3ef50c2f2d42b",
       "version_major": 2,
       "version_minor": 0
      },
      "text/plain": [
       "interactive(children=(IntSlider(value=37, description='sample_freq', max=65, min=9), Output()), _dom_classes=(…"
      ]
     },
     "metadata": {},
     "output_type": "display_data"
    }
   ],
   "source": [
    "# -------------------------------------------------------------------------------------\n",
    "\n",
    "def samp(sample_freq):\n",
    "    \n",
    "    dim = 1*6.4\n",
    "    plt.figure(figsize=[dim, 0.75*dim])\n",
    "    plt.plot(time, signal, 'r:')\n",
    "    \n",
    "    # Uso do arange: anda n vezes o passo e amostra n+1 vezes, ou seja fs = fs+1\n",
    "    # ts = np.arange(0, 1 + 1/sample_freq, 1/sample_freq) # passo = 1/fs \n",
    "    ts = np.linspace(0, 1, sample_freq)\n",
    "    samp_signal = np.sin(2*np.pi*freq*ts)\n",
    "    plt.stem(ts, samp_signal, linefmt='-C0', markerfmt='C0o', basefmt='k-')\n",
    "    \n",
    "    plt.grid()\n",
    "    plt.show()\n",
    "    return samp_signal\n",
    "\n",
    "w2 = widgets.interactive(samp, sample_freq=(9, 65, 1))\n",
    "display(w2)\n"
   ]
  },
  {
   "cell_type": "code",
   "execution_count": 35,
   "metadata": {},
   "outputs": [
    {
     "name": "stdout",
     "output_type": "stream",
     "text": [
      "17\n"
     ]
    }
   ],
   "source": [
    "samp_signal = w2.result\n",
    "print(samp_signal.size)"
   ]
  },
  {
   "cell_type": "markdown",
   "metadata": {},
   "source": [
    "## Início do trabalho...\n",
    "\n",
    "de finir o sinal e plotar é o primeiro passo já que o sinal é imutável...\n",
    "\n",
    "\" tentafiva de implementar tudo com base na interação ???? seria em cas cata pra casa vez que eu mudasse\n",
    "\n",
    "tratar as variáveis para caso geral com uma só inicialização"
   ]
  },
  {
   "cell_type": "code",
   "execution_count": null,
   "metadata": {},
   "outputs": [],
   "source": [
    "sr = 32000 # Sample rate global, 32k amostras em 1 segundo\n",
    "time = np.linspace(0, 1, sr)\n",
    "freq = 10\n",
    "dim = 1*6.4\n",
    "y = np.sin(2*np.pi*freq*time)\n",
    "plt.figure(figsize=[dim, 0.75*dim])\n",
    "plt.plot(time, y, 'r:')\n",
    "\n",
    "sampling_freq = 11\n",
    "t2 = np.arange(0, 1 + 1/sampling_freq, 1/sampling_freq) # passo = 1/fs \n",
    "plt.stem(t2, np.sin(2*np.pi*freq*t2), linefmt='-C0', markerfmt='o', basefmt='k-')\n",
    "plt.grid()\n",
    "plt.show()"
   ]
  },
  {
   "cell_type": "markdown",
   "metadata": {},
   "source": [
    "### Reconstruções \n",
    "\n",
    "\n",
    "- ordem zero\n",
    "- interpolar\n",
    "- ideal\n"
   ]
  },
  {
   "cell_type": "code",
   "execution_count": null,
   "metadata": {},
   "outputs": [],
   "source": [
    "fs = samp_signal.size\n",
    "Ts = 1/(fs-1)\n",
    "\n",
    "sr = 32000 # Sample rate global, 32k amostras em 1 segundo, domínio do sinal x_a\n",
    "time = np.linspace(0, 1, sr)\n",
    "\n",
    "time.size\n",
    "\n",
    "def rect(t):\n",
    "    \n",
    "    if abs(t) > 0.5:\n",
    "        return 0\n",
    "    elif abs(t) < 0.5:\n",
    "        return 1\n",
    "    else:\n",
    "        return 0.5\n",
    "    \n",
    "r = np.arange(-1.1, 1.1, 0.01)\n",
    "q = np.array([rect(x) for x in r])\n",
    "\n",
    "plt.plot(r,q)"
   ]
  },
  {
   "cell_type": "code",
   "execution_count": null,
   "metadata": {},
   "outputs": [],
   "source": [
    "# explicar funcionamento...  https://en.wikipedia.org/wiki/Zero-order_hold\n",
    "\n",
    "rec_zero_order = np.zeros(sr)\n",
    "for t in range(len(time)):\n",
    "    soma = 0\n",
    "    for n in range(26):\n",
    "        soma += rect((time[t] - 0.5*Ts - n*Ts)/Ts)*samp_signal[n]\n",
    "    rec_zero_order[t] = soma\n",
    "\n",
    "\n",
    "plt.plot(rec_zero_order)\n"
   ]
  },
  {
   "cell_type": "code",
   "execution_count": null,
   "metadata": {},
   "outputs": [],
   "source": [
    "# explicar funcionamento...  http://fourier.eng.hmc.edu/e101/lectures/Sampling_theorem/node3.html\n",
    "\n",
    "# rec_lin = np.zeros(sr)\n",
    "# for t in range(len(time)):\n",
    "#     soma = 0\n",
    "#     for n in range(26):\n",
    "#         soma += tri((time[t]))*samp_signal[n]\n",
    "#     rec_lin[t] = soma\n",
    "\n",
    "\n",
    "# plt.plot(rec_lin)\n",
    "print(samp_signal )\n",
    "ts = np.linspace(0,1,26) #   !!!!!\n",
    "rec_lin = np.zeros(32000)\n",
    "time = np.linspace(0, 1, 32000)\n",
    "\n",
    "# for t in range(32000):\n",
    "#     for i in range(len(samp_signal)-1):\n",
    "#         if time[t] > ts[i] and time[t] < ts[i+1]:\n",
    "#             rec_lin[t] = samp_signal[i] + (time[t] - ts[i])*(samp_signal[i+1] - samp_signal[i])/(ts[i+1] - ts[i])\n",
    "\n",
    "rec_lin = np.interp(time, ts, samp_signal)\n",
    "\n",
    "print(rec_lin)\n",
    "plt.plot(rec_lin)"
   ]
  },
  {
   "cell_type": "code",
   "execution_count": null,
   "metadata": {},
   "outputs": [],
   "source": [
    "rec_ideal = np.zeros(sr)\n",
    "for t in range(len(time)):\n",
    "    soma = 0\n",
    "    for n in range(26):\n",
    "        soma += np.sinc((time[t]  - n*Ts)/Ts)*samp_signal[n]\n",
    "    rec_ideal[t] = soma\n",
    "\n",
    "\n",
    "plt.plot(rec_ideal)"
   ]
  },
  {
   "cell_type": "code",
   "execution_count": null,
   "metadata": {},
   "outputs": [],
   "source": [
    "# TODO: Organizar e tratar erro fazer plots \n",
    "\n",
    "\n",
    "# erro = original - rec\n",
    "# plot\n",
    "# np.mean(abs(erro))\n",
    "\n",
    "# linspace anda 10 deltas e amostra 11 vezes\n",
    "# arange anda 11 deltas amostra 12 vezes\n",
    "# n = 26\n",
    "# print(np.arange(0, 1+1/n, 1/n)) \n",
    "# np.linspace(0, 1, n)\n",
    "\n",
    "# import IPython.display as ipd\n",
    "\n",
    "# ipd.Audio(0.001*np.sin(2*np.pi*10*time), rate=32000)\n"
   ]
  },
  {
   "cell_type": "code",
   "execution_count": null,
   "metadata": {},
   "outputs": [],
   "source": []
  }
 ],
 "metadata": {
  "kernelspec": {
   "display_name": "Python 3",
   "language": "python",
   "name": "python3"
  },
  "language_info": {
   "codemirror_mode": {
    "name": "ipython",
    "version": 3
   },
   "file_extension": ".py",
   "mimetype": "text/x-python",
   "name": "python",
   "nbconvert_exporter": "python",
   "pygments_lexer": "ipython3",
   "version": "3.6.8"
  }
 },
 "nbformat": 4,
 "nbformat_minor": 2
}
