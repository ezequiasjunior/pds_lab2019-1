{
 "cells": [
  {
   "cell_type": "code",
   "execution_count": 1,
   "metadata": {},
   "outputs": [],
   "source": [
    "import numpy as np"
   ]
  },
  {
   "cell_type": "code",
   "execution_count": 78,
   "metadata": {},
   "outputs": [],
   "source": [
    "x = np.arange(8).reshape(8,1)"
   ]
  },
  {
   "cell_type": "code",
   "execution_count": 4,
   "metadata": {},
   "outputs": [
    {
     "data": {
      "text/plain": [
       "array([[0],\n",
       "       [1],\n",
       "       [2],\n",
       "       [3],\n",
       "       [4],\n",
       "       [5],\n",
       "       [6],\n",
       "       [7],\n",
       "       [8],\n",
       "       [9]])"
      ]
     },
     "execution_count": 4,
     "metadata": {},
     "output_type": "execute_result"
    }
   ],
   "source": [
    "x"
   ]
  },
  {
   "cell_type": "code",
   "execution_count": 5,
   "metadata": {},
   "outputs": [],
   "source": [
    "# def least_mean_squares(x, d, step, m):\n",
    "#     # inicializar...\n",
    "    \n",
    "#     for n in range(x.size-(m-1)):\n",
    "#         u = x[-n-1:-(M+1+n):-1]\n",
    "#         erro = d - w.T@u\n",
    "#         w+=step*u*erro\n",
    "        \n",
    "#     return"
   ]
  },
  {
   "cell_type": "code",
   "execution_count": 30,
   "metadata": {
    "scrolled": false
   },
   "outputs": [
    {
     "name": "stdout",
     "output_type": "stream",
     "text": [
      "[[7]\n",
      " [6]\n",
      " [5]\n",
      " [4]\n",
      " [3]\n",
      " [2]]\n",
      "\n",
      "[[6]\n",
      " [5]\n",
      " [4]\n",
      " [3]\n",
      " [2]\n",
      " [1]]\n",
      "\n",
      "[[5]\n",
      " [4]\n",
      " [3]\n",
      " [2]\n",
      " [1]\n",
      " [0]]\n",
      "\n"
     ]
    }
   ],
   "source": [
    "# traz pra frente;...\n",
    "# x[::-1][:x.size-3]\n",
    "M = 6 # roda M+1\n",
    "for n in range(x.size-(M-1)):\n",
    "    print(f'{x[-n-1:-(M+1+n):-1]}\\n')"
   ]
  },
  {
   "cell_type": "code",
   "execution_count": 2,
   "metadata": {},
   "outputs": [],
   "source": [
    "import numpy as np\n",
    "# import _paramcheck as _pchk\n",
    "\n",
    "\n",
    "def lms(u, d, M, step, leak=0, initCoeffs=None, N=None, returnCoeffs=False):\n",
    "    \"\"\"\n",
    "    Perform least-mean-squares (LMS) adaptive filtering on u to minimize error\n",
    "    given by e=d-y, where y is the output of the adaptive filter.\n",
    "\n",
    "    Parameters\n",
    "    ----------\n",
    "    u : array-like\n",
    "        One-dimensional filter input.\n",
    "    d : array-like\n",
    "        One-dimensional desired signal, i.e., the output of the unknown FIR\n",
    "        system which the adaptive filter should identify. Must have length >=\n",
    "        len(u), or N+M-1 if number of iterations are limited (via the N\n",
    "        parameter).\n",
    "    M : int\n",
    "        Desired number of filter taps (desired filter order + 1), must be\n",
    "        non-negative.\n",
    "    step : float\n",
    "        Step size of the algorithm, must be non-negative.\n",
    "\n",
    "    Optional Parameters\n",
    "    -------------------\n",
    "    leak : float\n",
    "        Leakage factor, must be equal to or greater than zero and smaller than\n",
    "        one. When greater than zero a leaky LMS filter is used. Defaults to 0,\n",
    "        i.e., no leakage.\n",
    "    initCoeffs : array-like\n",
    "        Initial filter coefficients to use. Should match desired number of\n",
    "        filter taps, defaults to zeros.\n",
    "    N : int\n",
    "        Number of iterations to run. Must be less than or equal to len(u)-M+1.\n",
    "        Defaults to len(u)-M+1.\n",
    "    returnCoeffs : boolean\n",
    "        If true, will return all filter coefficients for every iteration in an\n",
    "        N x M matrix. Does not include the initial coefficients. If false, only\n",
    "        the latest coefficients in a vector of length M is returned. Defaults\n",
    "        to false.\n",
    "\n",
    "    Returns\n",
    "    -------\n",
    "    y : numpy.array\n",
    "        Output values of LMS filter, array of length N.\n",
    "    e : numpy.array\n",
    "        Error signal, i.e, d-y. Array of length N.\n",
    "    w : numpy.array\n",
    "        Final filter coefficients in array of length M if returnCoeffs is\n",
    "        False. NxM array containing all filter coefficients for all iterations\n",
    "        otherwise.\n",
    "\n",
    "    Raises\n",
    "    ------\n",
    "    TypeError\n",
    "        If number of filter taps M is not type integer, number of iterations N\n",
    "        is not type integer, or leakage leak is not type float/int.\n",
    "    ValueError\n",
    "        If number of iterations N is greater than len(u)-M, number of filter\n",
    "        taps M is negative, or if step-size or leakage is outside specified\n",
    "        range.\n",
    "\n",
    "    Minimal Working Example\n",
    "    -----------------------\n",
    "    >>> import numpy as np\n",
    "    >>>\n",
    "    >>> np.random.seed(1337)\n",
    "    >>> ulen = 2000\n",
    "    >>> coeff = np.concatenate(([1], np.zeros(10), [-0.9], np.zeros(7), [0.1]))\n",
    "    >>> u = np.random.randn(ulen)\n",
    "    >>> d = np.convolve(u, coeff)\n",
    "    >>>\n",
    "    >>> M = 20  # No. of taps\n",
    "    >>> step = 0.03  # Step size\n",
    "    >>> y, e, w = lms(u, d, M, step)\n",
    "    >>> print np.allclose(w, coeff)\n",
    "    True\n",
    "\n",
    "    Extended Example\n",
    "    ----------------\n",
    "    >>> import numpy as np\n",
    "    >>>\n",
    "    >>> np.random.seed(1337)\n",
    "    >>> N = 1000\n",
    "    >>> coeffs = np.concatenate(([-3], np.zeros(9), [6.9], np.zeros(8), [0.7]))\n",
    "    >>> u = np.random.randn(20000)  # Note len(u) >> N but we limit iterations\n",
    "    >>> d = np.convolve(u, coeffs)\n",
    "    >>>\n",
    "    >>> M = 20  # No. of taps\n",
    "    >>> step = 0.02  # Step size\n",
    "    >>> y, e, w = lms(u, d, M, step, N=N, returnCoeffs=True)\n",
    "    >>> y.shape == (N,)\n",
    "    True\n",
    "    >>> e.shape == (N,)\n",
    "    True\n",
    "    >>> w.shape == (N, M)\n",
    "    True\n",
    "    >>> # Calculate mean square weight error\n",
    "    >>> mswe = np.mean((w - coeffs)**2, axis=1)\n",
    "    >>> # Should never increase so diff should above be > 0\n",
    "    >>> diff = np.diff(mswe)\n",
    "    >>> (diff <= 1e-10).all()\n",
    "    True\n",
    "    \"\"\"\n",
    "#     # Num taps check\n",
    "#     _pchk.checkNumTaps(M)\n",
    "    # Max iteration check\n",
    "    if N is None:\n",
    "        N = len(u)-M+1\n",
    "#     _pchk.checkIter(N, len(u)-M+1)\n",
    "#     # Check len(d)\n",
    "#     _pchk.checkDesiredSignal(d, N, M)\n",
    "#     # Step check\n",
    "#     _pchk.checkStep(step)\n",
    "#     # Leakage check\n",
    "#     _pchk.checkLeakage(leak)\n",
    "    # Init. coeffs check\n",
    "    if initCoeffs is None:\n",
    "        initCoeffs = np.zeros(M)\n",
    "    else:\n",
    "        _pchk.checkInitCoeffs(initCoeffs, M)\n",
    "\n",
    "    # Initialization\n",
    "    y = np.zeros(N)  # Filter output\n",
    "    e = np.zeros(N)  # Error signal\n",
    "    w = initCoeffs  # Initial filter coeffs\n",
    "    leakstep = (1 - step*leak)\n",
    "    if returnCoeffs:\n",
    "        W = np.zeros((N, M))  # Matrix to hold coeffs for each iteration\n",
    "\n",
    "    # Perform filtering\n",
    "    for n in range(N):\n",
    "        x = np.flipud(u[n:n+M])  # Slice to get view of M latest datapoints\n",
    "        y[n] = np.dot(x, w)\n",
    "        e[n] = d[n+M-1] - y[n]\n",
    "\n",
    "        w = leakstep * w + step * x * e[n]\n",
    "        y[n] = np.dot(x, w)\n",
    "        if returnCoeffs:\n",
    "            W[n] = w\n",
    "\n",
    "    if returnCoeffs:\n",
    "        w = W\n",
    "\n",
    "    return y, e, w"
   ]
  },
  {
   "cell_type": "code",
   "execution_count": 33,
   "metadata": {
    "scrolled": false
   },
   "outputs": [
    {
     "name": "stdout",
     "output_type": "stream",
     "text": [
      "[ 1.   0.   0.   0.   0.   0.   0.   0.   0.   0.   0.  -0.9  0.   0.\n",
      "  0.   0.   0.   0.   0.   0.1]\n",
      "True\n"
     ]
    },
    {
     "data": {
      "text/plain": [
       "array([[ 1.00e+00],\n",
       "       [-4.05e-18],\n",
       "       [-1.08e-17],\n",
       "       [-4.36e-17],\n",
       "       [-2.19e-17],\n",
       "       [-3.44e-18],\n",
       "       [-1.37e-17],\n",
       "       [-1.48e-17],\n",
       "       [-1.51e-17],\n",
       "       [ 2.57e-17],\n",
       "       [ 8.66e-18],\n",
       "       [-9.00e-01],\n",
       "       [ 2.69e-17],\n",
       "       [-8.72e-18],\n",
       "       [ 4.77e-18],\n",
       "       [ 2.45e-17],\n",
       "       [ 3.26e-17],\n",
       "       [-5.74e-18],\n",
       "       [ 1.75e-17],\n",
       "       [ 1.00e-01]])"
      ]
     },
     "execution_count": 33,
     "metadata": {},
     "output_type": "execute_result"
    }
   ],
   "source": [
    "\n",
    "np.random.seed(1337)\n",
    "ulen = 2000\n",
    "coeff = np.concatenate(([1], np.zeros(10), [-0.9], np.zeros(7), [0.1]))\n",
    "print(coeff)\n",
    "u = np.random.randn(ulen)\n",
    "d = np.convolve(u, coeff)\n",
    "\n",
    "M = 20  # No. of taps\n",
    "step = 0.03  # Step size\n",
    "# y, e, w = lms(u, d, M, step)\n",
    "y, e, w = least_mean_squares(u, d, step, M)\n",
    "np.set_printoptions(2)\n",
    "# print (np.allclose(w, coeff))\n",
    "# w\n",
    "print (np.allclose(w[:,-1], coeff))\n",
    "w[:,[-1]]"
   ]
  },
  {
   "cell_type": "markdown",
   "metadata": {},
   "source": [
    "## problemas no algoritimo"
   ]
  },
  {
   "cell_type": "code",
   "execution_count": 31,
   "metadata": {},
   "outputs": [],
   "source": [
    "def least_mean_squares(u, d, step, M):\n",
    "    N = u.size - M + 1\n",
    "    y = np.zeros((N, 1)) # Filter output\n",
    "    e = np.zeros((N, 1)) # Error signal\n",
    "#     w = np.zeros((M, 1)) # Initial filter coeffs\n",
    "    mt_W = np.zeros((M, N)) # Matrix to hold coeffs for each iteration\n",
    "\n",
    "    for n in range(N):\n",
    "        x = np.flipud(u[n:n + M])[:, np.newaxis] # Slice to get view of M latest data\n",
    "        y[n] = mt_W[:, [n-1]].T @ x\n",
    "        e[n] = d[n + M - 1] - y[n]\n",
    "\n",
    "        mt_W[:, [n]] = mt_W[:,[n-1]] + step * x * e[n]\n",
    "        y[n] = mt_W[:, [n]].T @ x\n",
    "\n",
    "    return y, e, mt_W"
   ]
  },
  {
   "cell_type": "code",
   "execution_count": null,
   "metadata": {},
   "outputs": [],
   "source": []
  },
  {
   "cell_type": "code",
   "execution_count": 69,
   "metadata": {},
   "outputs": [],
   "source": [
    "from matplotlib.pyplot import*"
   ]
  },
  {
   "cell_type": "code",
   "execution_count": 111,
   "metadata": {},
   "outputs": [
    {
     "data": {
      "text/plain": [
       "[<matplotlib.lines.Line2D at 0x7f1ebd5b6eb8>]"
      ]
     },
     "execution_count": 111,
     "metadata": {},
     "output_type": "execute_result"
    },
    {
     "data": {
      "image/png": "[encoded data removed]",
      "text/plain": [
       "<Figure size 432x288 with 1 Axes>"
      ]
     },
     "metadata": {
      "needs_background": "light"
     },
     "output_type": "display_data"
    }
   ],
   "source": [
    "plot(y)\n",
    "plot(u)"
   ]
  },
  {
   "cell_type": "code",
   "execution_count": 30,
   "metadata": {},
   "outputs": [
    {
     "name": "stdout",
     "output_type": "stream",
     "text": [
      "\n",
      "[[0.17]\n",
      " [0.8 ]\n",
      " [0.44]\n",
      " [0.59]\n",
      " [0.83]\n",
      " [0.87]\n",
      " [0.08]\n",
      " [0.02]\n",
      " [0.01]\n",
      " [0.67]]\n",
      "\n",
      "[[0.67]\n",
      " [0.01]\n",
      " [0.02]\n",
      " [0.08]\n",
      " [0.87]]\n",
      "\n"
     ]
    }
   ],
   "source": [
    "M = 10\n",
    "a=np.random.rand(10,1)\n",
    "n = 5\n",
    "x = np.flipud(a[n:n + M])\n",
    "print(f'''\n",
    "{a}\n",
    "\n",
    "{x}\n",
    "''')"
   ]
  }
 ],
 "metadata": {
  "kernelspec": {
   "display_name": "Python 3",
   "language": "python",
   "name": "python3"
  },
  "language_info": {
   "codemirror_mode": {
    "name": "ipython",
    "version": 3
   },
   "file_extension": ".py",
   "mimetype": "text/x-python",
   "name": "python",
   "nbconvert_exporter": "python",
   "pygments_lexer": "ipython3",
   "version": "3.7.1"
  }
 },
 "nbformat": 4,
 "nbformat_minor": 2
}
